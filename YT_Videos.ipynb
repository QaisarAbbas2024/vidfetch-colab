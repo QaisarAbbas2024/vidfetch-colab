{
  "nbformat": 4,
  "nbformat_minor": 0,
  "metadata": {
    "colab": {
      "provenance": [],
      "authorship_tag": "ABX9TyMNlPQJUQ2e8yHyt6CO4EfE",
      "include_colab_link": true
    },
    "kernelspec": {
      "name": "python3",
      "display_name": "Python 3"
    },
    "language_info": {
      "name": "python"
    }
  },
  "cells": [
    {
      "cell_type": "markdown",
      "metadata": {
        "id": "view-in-github",
        "colab_type": "text"
      },
      "source": [
        "<a href=\"https://colab.research.google.com/github/QaisarAbbas2024/vidfetch-colab/blob/main/YT_Videos.ipynb\" target=\"_parent\"><img src=\"https://colab.research.google.com/assets/colab-badge.svg\" alt=\"Open In Colab\"/></a>"
      ]
    },
    {
      "cell_type": "code",
      "source": [
        "!pip install yt-dlp\n",
        "import yt_dlp\n",
        "import os\n",
        "import subprocess\n",
        "\n",
        "def download_facebook_video(url):\n",
        "    video_filename = None  # Will store final downloaded file name\n",
        "\n",
        "    ydl_opts = {\n",
        "        'outtmpl': '%(title)s.%(ext)s',\n",
        "        'format': 'bestvideo+bestaudio/best',\n",
        "        'merge_output_format': 'mp4',\n",
        "        'quiet': True,\n",
        "        'progress_hooks': [lambda d: set_video_filename(d)],\n",
        "    }\n",
        "\n",
        "    def set_video_filename(d):\n",
        "        nonlocal video_filename\n",
        "        if d['status'] == 'finished':\n",
        "            video_filename = d['filename']\n",
        "\n",
        "    with yt_dlp.YoutubeDL(ydl_opts) as ydl:\n",
        "        ydl.download([url])\n",
        "\n",
        "    if video_filename:\n",
        "        print(f\"Downloaded: {video_filename}\")\n",
        "        # Try to open with Chrome\n",
        "        try:\n",
        "            subprocess.run(['google-chrome', video_filename], check=True)\n",
        "        except FileNotFoundError:\n",
        "            print(\"Google Chrome not found. Please make sure it's installed and on your system PATH.\")\n",
        "        except Exception as e:\n",
        "            print(\"Error opening in Chrome:\", e)\n",
        "\n",
        "def download_videos_from_list(url_list):\n",
        "    for url in url_list:\n",
        "        download_facebook_video(url)\n",
        "\n",
        "# Example usage:\n",
        "video_urls = [\n",
        "\"https://www.facebook.com/iCodeguru/videos/669248146050460\"]\n",
        "\n",
        "download_videos_from_list(video_urls)"
      ],
      "metadata": {
        "colab": {
          "base_uri": "https://localhost:8080/"
        },
        "id": "VIqT-P1O0yDq",
        "outputId": "a0d1f0a8-9291-4386-9872-8131f253738c"
      },
      "execution_count": 1,
      "outputs": [
        {
          "output_type": "stream",
          "name": "stdout",
          "text": [
            "Collecting yt-dlp\n",
            "  Downloading yt_dlp-2025.3.31-py3-none-any.whl.metadata (172 kB)\n",
            "\u001b[2K     \u001b[90m━━━━━━━━━━━━━━━━━━━━━━━━━━━━━━━━━━━━━━━\u001b[0m \u001b[32m172.2/172.2 kB\u001b[0m \u001b[31m2.5 MB/s\u001b[0m eta \u001b[36m0:00:00\u001b[0m\n",
            "\u001b[?25hDownloading yt_dlp-2025.3.31-py3-none-any.whl (3.2 MB)\n",
            "\u001b[2K   \u001b[90m━━━━━━━━━━━━━━━━━━━━━━━━━━━━━━━━━━━━━━━━\u001b[0m \u001b[32m3.2/3.2 MB\u001b[0m \u001b[31m28.0 MB/s\u001b[0m eta \u001b[36m0:00:00\u001b[0m\n",
            "\u001b[?25hInstalling collected packages: yt-dlp\n",
            "Successfully installed yt-dlp-2025.3.31\n",
            "Downloaded: Mater Leetcode Patterns From Beginning ｜ Week 1 ｜ Day 5 ｜ By ICode Guru.f4127152170943514a.m4a\n",
            "Google Chrome not found. Please make sure it's installed and on your system PATH.\n"
          ]
        }
      ]
    }
  ]
}